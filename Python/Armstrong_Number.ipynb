{
 "cells": [
  {
   "cell_type": "code",
   "execution_count": 1,
   "id": "0057f2ae",
   "metadata": {},
   "outputs": [],
   "source": [
    "import math as m\n",
    "def armstrng(a):\n",
    "    num = int(a)\n",
    "    sum = 0\n",
    "    temp = a    #or temp = num\n",
    "    while temp > 0:\n",
    "        digit = temp%10    #% gives remainder called modulo operator\n",
    "        sum = sum + digit**3\n",
    "        temp = m.floor(temp/10)    #floor function in math library gives floor value of any real number\n",
    "    print(\"Sum of cubes of each digit of\", num, \"is:\", sum)\n",
    "    if num == sum:\n",
    "        print(\"Therefore\", num, \"is an Armstrong Number\")\n",
    "    else:\n",
    "        print(\"Therefore\", num, \"is not an Armstrong Number\")"
   ]
  },
  {
   "cell_type": "code",
   "execution_count": 2,
   "id": "3cc27945",
   "metadata": {},
   "outputs": [
    {
     "name": "stdout",
     "output_type": "stream",
     "text": [
      "Sum of cubes of each digit of 153 is: 153\n",
      "Therefore 153 is an Armstrong Number\n"
     ]
    }
   ],
   "source": [
    "armstrng(153)"
   ]
  },
  {
   "cell_type": "code",
   "execution_count": 3,
   "id": "c68ca8db",
   "metadata": {},
   "outputs": [
    {
     "name": "stdout",
     "output_type": "stream",
     "text": [
      "Sum of cubes of each digit of 1 is: 1\n",
      "Therefore 1 is an Armstrong Number\n"
     ]
    }
   ],
   "source": [
    "armstrng(1)"
   ]
  },
  {
   "cell_type": "code",
   "execution_count": 4,
   "id": "de22292a",
   "metadata": {},
   "outputs": [
    {
     "name": "stdout",
     "output_type": "stream",
     "text": [
      "Sum of cubes of each digit of 23 is: 35\n",
      "Therefore 23 is not an Armstrong Number\n"
     ]
    }
   ],
   "source": [
    "armstrng(23)"
   ]
  },
  {
   "cell_type": "code",
   "execution_count": null,
   "id": "61226e44",
   "metadata": {},
   "outputs": [],
   "source": []
  }
 ],
 "metadata": {
  "kernelspec": {
   "display_name": "Python 3 (ipykernel)",
   "language": "python",
   "name": "python3"
  },
  "language_info": {
   "codemirror_mode": {
    "name": "ipython",
    "version": 3
   },
   "file_extension": ".py",
   "mimetype": "text/x-python",
   "name": "python",
   "nbconvert_exporter": "python",
   "pygments_lexer": "ipython3",
   "version": "3.9.7"
  }
 },
 "nbformat": 4,
 "nbformat_minor": 5
}
