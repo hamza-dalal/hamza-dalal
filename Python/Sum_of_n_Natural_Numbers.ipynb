{
 "cells": [
  {
   "cell_type": "code",
   "execution_count": 1,
   "id": "df5c6c8a",
   "metadata": {},
   "outputs": [],
   "source": [
    "#To find sum of n natural numbers"
   ]
  },
  {
   "cell_type": "code",
   "execution_count": 2,
   "id": "491a4e46",
   "metadata": {},
   "outputs": [],
   "source": [
    "#Without using formula\n",
    "def sum_n(n):\n",
    "    n = int(n)\n",
    "    sum = 0\n",
    "    if n > 0:\n",
    "        for i in range(1, n+1):\n",
    "            sum = sum + i\n",
    "        print(\"Sum of all natural numbers till\", n, \"is:\", sum)\n",
    "    else:\n",
    "        print(\"Entered number i.e.\", n, \"is not natural\")"
   ]
  },
  {
   "cell_type": "code",
   "execution_count": 3,
   "id": "f1da90c8",
   "metadata": {},
   "outputs": [
    {
     "name": "stdout",
     "output_type": "stream",
     "text": [
      "Sum of all natural numbers till 10 is: 55\n"
     ]
    }
   ],
   "source": [
    "sum_n(10)"
   ]
  },
  {
   "cell_type": "code",
   "execution_count": 4,
   "id": "e5953574",
   "metadata": {},
   "outputs": [],
   "source": [
    "#Using formula\n",
    "def sum_n_wf(n):\n",
    "    n = int(n)\n",
    "    if n > 0:\n",
    "        sum = n*(n+1)/2    #Formula of sum of n natural numbers\n",
    "        print(\"Sum of all natural numbers till\", n, \"is:\", int(sum))\n",
    "    else:\n",
    "        print(\"Entered number i.e.\", n, \"is not natural\")"
   ]
  },
  {
   "cell_type": "code",
   "execution_count": 5,
   "id": "766038ef",
   "metadata": {},
   "outputs": [
    {
     "name": "stdout",
     "output_type": "stream",
     "text": [
      "Sum of all natural numbers till 10 is: 55\n"
     ]
    }
   ],
   "source": [
    "sum_n_wf(10)"
   ]
  },
  {
   "cell_type": "code",
   "execution_count": null,
   "id": "72f1fad1",
   "metadata": {},
   "outputs": [],
   "source": []
  }
 ],
 "metadata": {
  "kernelspec": {
   "display_name": "Python 3 (ipykernel)",
   "language": "python",
   "name": "python3"
  },
  "language_info": {
   "codemirror_mode": {
    "name": "ipython",
    "version": 3
   },
   "file_extension": ".py",
   "mimetype": "text/x-python",
   "name": "python",
   "nbconvert_exporter": "python",
   "pygments_lexer": "ipython3",
   "version": "3.9.7"
  }
 },
 "nbformat": 4,
 "nbformat_minor": 5
}
