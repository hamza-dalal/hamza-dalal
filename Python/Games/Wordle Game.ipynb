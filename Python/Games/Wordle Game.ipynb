{
  "cells": [
    {
      "cell_type": "code",
      "execution_count": 6,
      "metadata": {
        "colab": {
          "base_uri": "https://localhost:8080/"
        },
        "id": "RYsEjVDF3cx1",
        "outputId": "d63df6cd-434c-4fe4-9ca4-cfe28fdd0ec9"
      },
      "outputs": [
        {
          "output_type": "stream",
          "name": "stderr",
          "text": [
            "[nltk_data] Downloading package words to /root/nltk_data...\n",
            "[nltk_data]   Package words is already up-to-date!\n"
          ]
        }
      ],
      "source": [
        "#-----------------------------------------------------------------------\n",
        "# import needed libraries\n",
        "import re\n",
        "import nltk\n",
        "from nltk.corpus import words\n",
        "\n",
        "\n",
        "#-----------------------------------------------------------------------\n",
        "# Download the word corpus\n",
        "nltk.download(\"words\")\n",
        "\n",
        "\n",
        "#-----------------------------------------------------------------------\n",
        "# define function with parameters\n",
        "\n",
        "def filter_words(\n",
        "    word_list, length = None,\n",
        "    fixed_positions = None,\n",
        "    contains_letters = None,\n",
        "    excludes_letters=None,\n",
        "    not_in_positions=None\n",
        "    ):\n",
        "\n",
        "    # Convert all words to lowercase\n",
        "    filtered_words = [word.lower() for word in word_list]\n",
        "\n",
        "    # Filter by length\n",
        "    if length:\n",
        "        filtered_words = [word for word in filtered_words if len(word) == length]\n",
        "\n",
        "    # Filter by fixed positions\n",
        "    if fixed_positions:\n",
        "        regex = ''.join(\n",
        "            fixed_positions.get(i, '.') for i in range(1, length + 1)\n",
        "        )\n",
        "        pattern = re.compile(regex, re.IGNORECASE)\n",
        "        filtered_words = [word for word in filtered_words if pattern.fullmatch(word)]\n",
        "\n",
        "    # Filter by containing letters\n",
        "    if contains_letters:\n",
        "        filtered_words = [\n",
        "            word for word in filtered_words if all(letter in word for letter in contains_letters)\n",
        "        ]\n",
        "\n",
        "    # Filter by excluded letters\n",
        "    if excludes_letters:\n",
        "        filtered_words = [\n",
        "            word for word in filtered_words if not any(letter in word for letter in excludes_letters)\n",
        "        ]\n",
        "\n",
        "    # Filter by letters not in specific positions\n",
        "    if not_in_positions:\n",
        "        for pos, letter in not_in_positions.items():\n",
        "            filtered_words = [\n",
        "                word for word in filtered_words if word[pos - 1] != letter.lower()\n",
        "            ]\n",
        "\n",
        "\n",
        "    return filtered_words"
      ]
    },
    {
      "cell_type": "code",
      "execution_count": 9,
      "metadata": {
        "id": "p6OYuDGUqR2l"
      },
      "outputs": [],
      "source": [
        "#-----------------------------------------------------------------------\n",
        "# provide values\n",
        "if __name__ == \"__main__\":\n",
        "    # Load words from nltk\n",
        "    word_list = words.words()\n",
        "\n",
        "    # Filters\n",
        "    word_length = 5\n",
        "    fixed_positions = {3:'n'} #eg. {3:'a',4:'t'} 3rd letter is 'a',etc.\n",
        "    not_in_positions = {4:'n'}\n",
        "    contains_letters = {'u','n'}\n",
        "    excludes_letters = {'t','r','i','e','d','h','o','s','e','m','a','g','o'}\n",
        "    # Get filtered words\n",
        "    results = filter_words(\n",
        "        word_list,\n",
        "        length = word_length,\n",
        "        fixed_positions = fixed_positions,\n",
        "        not_in_positions = not_in_positions,\n",
        "        contains_letters = contains_letters,\n",
        "        excludes_letters = excludes_letters\n",
        "    )"
      ]
    },
    {
      "cell_type": "code",
      "execution_count": 10,
      "metadata": {
        "colab": {
          "base_uri": "https://localhost:8080/"
        },
        "id": "bOPPVla9qUiD",
        "outputId": "87fa4911-5fc7-4bb4-df22-4a1e37681f8a"
      },
      "outputs": [
        {
          "output_type": "stream",
          "name": "stdout",
          "text": [
            "Filtered words: ['funky', 'nunky', 'punky']\n"
          ]
        }
      ],
      "source": [
        "#-----------------------------------------------------------------------\n",
        "# provide values\n",
        "print(\"Filtered words:\", results)"
      ]
    },
    {
      "cell_type": "code",
      "source": [
        "#--Example word \"prime\"\n",
        "# provide values\n",
        "if __name__ == \"__main__\":\n",
        "    # Load words from nltk\n",
        "    word_list = words.words()\n",
        "\n",
        "    # Filters\n",
        "    word_length = 5\n",
        "    fixed_positions = {3:'i'} #eg. {3:'a',4:'t'} 3rd letter is 'a',etc.\n",
        "    contains_letters = {'i','p','r'}\n",
        "    not_in_positions = {4:'r'}\n",
        "    excludes_letters = {'t','z','s','b','d','h','o','s','u','n','a','g','o'}\n",
        "    # Get filtered words\n",
        "    results = filter_words(\n",
        "        word_list,\n",
        "        length = word_length,\n",
        "        fixed_positions = fixed_positions,\n",
        "        contains_letters = contains_letters,\n",
        "        not_in_positions = not_in_positions,\n",
        "        excludes_letters = excludes_letters\n",
        "    )"
      ],
      "metadata": {
        "id": "Xi2oM5fnZllF"
      },
      "execution_count": 11,
      "outputs": []
    },
    {
      "cell_type": "code",
      "source": [
        "#-----------------------------------------------------------------------\n",
        "# provide values\n",
        "print(\"Filtered words:\", results)"
      ],
      "metadata": {
        "colab": {
          "base_uri": "https://localhost:8080/"
        },
        "id": "Og-OT5VgeDPu",
        "outputId": "bb01badc-edf6-4c72-824d-c21bd52b5cb2"
      },
      "execution_count": 12,
      "outputs": [
        {
          "output_type": "stream",
          "name": "stdout",
          "text": [
            "Filtered words: ['crimp', 'plier', 'price', 'price', 'prick', 'prier', 'prill', 'prime', 'primp', 'primy', 'privy', 'price']\n"
          ]
        }
      ]
    },
    {
      "cell_type": "code",
      "source": [
        "#--Example word \"logic\"\n",
        "# provide values\n",
        "if __name__ == \"__main__\":\n",
        "    # Load words from nltk\n",
        "    word_list = words.words()\n",
        "\n",
        "    # Filters\n",
        "    word_length = 5\n",
        "    fixed_positions = {1:'l',4:'i'} #eg. {3:'a',4:'t'} 3rd letter is 'a',etc.\n",
        "    contains_letters = {'i','l','o'}\n",
        "    not_in_positions = {5:'r'}\n",
        "    excludes_letters = {'t','z','s','b','d','h','e','s','u','n','a','f','j'}\n",
        "    # Get filtered words\n",
        "    results = filter_words(\n",
        "        word_list,\n",
        "        length = word_length,\n",
        "        fixed_positions = fixed_positions,\n",
        "        contains_letters = contains_letters,\n",
        "        not_in_positions = not_in_positions,\n",
        "        excludes_letters = excludes_letters\n",
        "    )"
      ],
      "metadata": {
        "id": "DMLBFWnSeQDV"
      },
      "execution_count": 13,
      "outputs": []
    },
    {
      "cell_type": "code",
      "source": [
        "#-----------------------------------------------------------------------\n",
        "# provide values\n",
        "print(\"Filtered words:\", results)"
      ],
      "metadata": {
        "colab": {
          "base_uri": "https://localhost:8080/"
        },
        "outputId": "c6f8471b-9db7-4416-b442-b067c6a94188",
        "id": "N7Jz7DLheQDW"
      },
      "execution_count": 14,
      "outputs": [
        {
          "output_type": "stream",
          "name": "stdout",
          "text": [
            "Filtered words: ['logic', 'loric', 'loxic']\n"
          ]
        }
      ]
    }
  ],
  "metadata": {
    "colab": {
      "provenance": []
    },
    "kernelspec": {
      "display_name": "Python 3",
      "name": "python3"
    },
    "language_info": {
      "name": "python"
    }
  },
  "nbformat": 4,
  "nbformat_minor": 0
}
