{
 "cells": [
  {
   "cell_type": "code",
   "execution_count": 1,
   "id": "6e9f20a0",
   "metadata": {},
   "outputs": [],
   "source": [
    "#Program to find multiplication table"
   ]
  },
  {
   "cell_type": "code",
   "execution_count": 1,
   "id": "485219f9",
   "metadata": {},
   "outputs": [],
   "source": [
    "def multi_table10(a):\n",
    "    for i in range(1, 11):\n",
    "        print(a, \"x\", i, \"=\", a*i)"
   ]
  },
  {
   "cell_type": "code",
   "execution_count": 3,
   "id": "bbfc45d7",
   "metadata": {},
   "outputs": [
    {
     "name": "stdout",
     "output_type": "stream",
     "text": [
      "3 x 1 = 3\n",
      "3 x 2 = 6\n",
      "3 x 3 = 9\n",
      "3 x 4 = 12\n",
      "3 x 5 = 15\n",
      "3 x 6 = 18\n",
      "3 x 7 = 21\n",
      "3 x 8 = 24\n",
      "3 x 9 = 27\n",
      "3 x 10 = 30\n"
     ]
    }
   ],
   "source": [
    "#Multiplication table of 3\n",
    "multi_table10(3)"
   ]
  },
  {
   "cell_type": "code",
   "execution_count": 4,
   "id": "e806b85a",
   "metadata": {},
   "outputs": [
    {
     "name": "stdout",
     "output_type": "stream",
     "text": [
      "34 x 1 = 34\n",
      "34 x 2 = 68\n",
      "34 x 3 = 102\n",
      "34 x 4 = 136\n",
      "34 x 5 = 170\n",
      "34 x 6 = 204\n",
      "34 x 7 = 238\n",
      "34 x 8 = 272\n",
      "34 x 9 = 306\n",
      "34 x 10 = 340\n"
     ]
    }
   ],
   "source": [
    "#Multiplication table of 34\n",
    "multi_table10(34)"
   ]
  },
  {
   "cell_type": "code",
   "execution_count": 7,
   "id": "9eb8747b",
   "metadata": {},
   "outputs": [],
   "source": [
    "#Multiplication table till 30\n",
    "def multi_table30(a):\n",
    "    for i in range(1,31):\n",
    "        print(a, \"x\", i, \"=\", a*i)"
   ]
  },
  {
   "cell_type": "code",
   "execution_count": 6,
   "id": "f913fd4e",
   "metadata": {},
   "outputs": [
    {
     "name": "stdout",
     "output_type": "stream",
     "text": [
      "11 x 1 = 11\n",
      "11 x 2 = 22\n",
      "11 x 3 = 33\n",
      "11 x 4 = 44\n",
      "11 x 5 = 55\n",
      "11 x 6 = 66\n",
      "11 x 7 = 77\n",
      "11 x 8 = 88\n",
      "11 x 9 = 99\n",
      "11 x 10 = 110\n",
      "11 x 11 = 121\n",
      "11 x 12 = 132\n",
      "11 x 13 = 143\n",
      "11 x 14 = 154\n",
      "11 x 15 = 165\n",
      "11 x 16 = 176\n",
      "11 x 17 = 187\n",
      "11 x 18 = 198\n",
      "11 x 19 = 209\n",
      "11 x 20 = 220\n",
      "11 x 21 = 231\n",
      "11 x 22 = 242\n",
      "11 x 23 = 253\n",
      "11 x 24 = 264\n",
      "11 x 25 = 275\n",
      "11 x 26 = 286\n",
      "11 x 27 = 297\n",
      "11 x 28 = 308\n",
      "11 x 29 = 319\n",
      "11 x 30 = 330\n"
     ]
    }
   ],
   "source": [
    "multi_table30(11)"
   ]
  },
  {
   "cell_type": "code",
   "execution_count": 2,
   "id": "41ec2aea",
   "metadata": {},
   "outputs": [
    {
     "name": "stdout",
     "output_type": "stream",
     "text": [
      "21 x 1 = 21\n",
      "21 x 2 = 42\n",
      "21 x 3 = 63\n",
      "21 x 4 = 84\n",
      "21 x 5 = 105\n",
      "21 x 6 = 126\n",
      "21 x 7 = 147\n",
      "21 x 8 = 168\n",
      "21 x 9 = 189\n",
      "21 x 10 = 210\n"
     ]
    }
   ],
   "source": [
    "multi_table10(21)"
   ]
  },
  {
   "cell_type": "code",
   "execution_count": 3,
   "id": "8313098f",
   "metadata": {},
   "outputs": [
    {
     "name": "stdout",
     "output_type": "stream",
     "text": [
      "128963 x 1 = 128963\n",
      "128963 x 2 = 257926\n",
      "128963 x 3 = 386889\n",
      "128963 x 4 = 515852\n",
      "128963 x 5 = 644815\n",
      "128963 x 6 = 773778\n",
      "128963 x 7 = 902741\n",
      "128963 x 8 = 1031704\n",
      "128963 x 9 = 1160667\n",
      "128963 x 10 = 1289630\n"
     ]
    }
   ],
   "source": [
    "multi_table10(128963)"
   ]
  },
  {
   "cell_type": "code",
   "execution_count": null,
   "id": "056e20cd",
   "metadata": {},
   "outputs": [],
   "source": []
  }
 ],
 "metadata": {
  "kernelspec": {
   "display_name": "Python 3 (ipykernel)",
   "language": "python",
   "name": "python3"
  },
  "language_info": {
   "codemirror_mode": {
    "name": "ipython",
    "version": 3
   },
   "file_extension": ".py",
   "mimetype": "text/x-python",
   "name": "python",
   "nbconvert_exporter": "python",
   "pygments_lexer": "ipython3",
   "version": "3.9.7"
  }
 },
 "nbformat": 4,
 "nbformat_minor": 5
}
