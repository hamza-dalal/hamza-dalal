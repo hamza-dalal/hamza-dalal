{
 "cells": [
  {
   "cell_type": "code",
   "execution_count": 1,
   "id": "77b3c998",
   "metadata": {},
   "outputs": [],
   "source": [
    "#To find variances of different kinds"
   ]
  },
  {
   "cell_type": "code",
   "execution_count": 2,
   "id": "ec7e2e2a",
   "metadata": {},
   "outputs": [],
   "source": [
    "#import the recquired libraries\n",
    "import statistics as stats\n",
    "import numpy as np"
   ]
  },
  {
   "cell_type": "code",
   "execution_count": 3,
   "id": "71782ad8",
   "metadata": {},
   "outputs": [
    {
     "name": "stdout",
     "output_type": "stream",
     "text": [
      "Enter number of elements:4\n",
      "Enter the elements\n",
      "1\n",
      "2\n",
      "3\n",
      "4\n",
      "Data is: [1. 2. 3. 4.]\n",
      "Mean is: 2.5\n",
      "Number of Observations is: 4\n",
      "Population variance is: 1.25\n"
     ]
    }
   ],
   "source": [
    "#Population variance without using Python function(Using variance formula)\n",
    "x = []\n",
    "n = int(input(\"Enter number of elements:\"))    #number of elements\n",
    "print(\"Enter the elements\")\n",
    "for i in range(0, n):\n",
    "    ele = float(input())    #to take input for elements\n",
    "    x.append(ele)   \n",
    "x = np.array(x, dtype = float)\n",
    "print(\"Data is:\", x)\n",
    "xbar = stats.mean(x)\n",
    "print(\"Mean is:\", xbar)\n",
    "n = len(x)\n",
    "print(\"Number of Observations is:\", n)\n",
    "pvar_wo = sum((x - xbar)**2)/n\n",
    "print(\"Population variance is:\", pvar_wo)"
   ]
  },
  {
   "cell_type": "code",
   "execution_count": 4,
   "id": "3c9d6310",
   "metadata": {},
   "outputs": [
    {
     "name": "stdout",
     "output_type": "stream",
     "text": [
      "Data is: [1. 2. 3. 4.]\n",
      "Mean is: 2.5\n",
      "Number of observations is: 4\n",
      "Sample variance is: 1.6666666666666667\n"
     ]
    }
   ],
   "source": [
    "#Sample variance without using python functions(Using Variance formula)\n",
    "#Considering the same observations above and if you want to take different data then refer the above code\n",
    "print(\"Data is:\", x)\n",
    "print(\"Mean is:\", xbar)\n",
    "print(\"Number of observations is:\", n)\n",
    "svar_no = sum((x - xbar)**2)/(n-1)\n",
    "print(\"Sample variance is:\", svar_no)"
   ]
  },
  {
   "cell_type": "code",
   "execution_count": 5,
   "id": "0cda38e2",
   "metadata": {},
   "outputs": [
    {
     "name": "stdout",
     "output_type": "stream",
     "text": [
      "Data is: [1. 2. 3. 4.]\n",
      "Population variance is: 1.25\n",
      "Population variance is: 1.25\n"
     ]
    }
   ],
   "source": [
    "#Population Variance using python function\n",
    "print(\"Data is:\", x)\n",
    "pvar_w = stats.pvariance(x)    #using statistics library\n",
    "print(\"Population variance is:\", pvar_w)\n",
    "#or\n",
    "pvar_w = np.var(x)    #using numpy library\n",
    "print(\"Population variance is:\", pvar_w)"
   ]
  },
  {
   "cell_type": "code",
   "execution_count": 6,
   "id": "d4c811ac",
   "metadata": {},
   "outputs": [
    {
     "name": "stdout",
     "output_type": "stream",
     "text": [
      "Data is: [1. 2. 3. 4.]\n",
      "Population variance is: 1.6666666666666667\n"
     ]
    }
   ],
   "source": [
    "#Sample Variance using python function\n",
    "print(\"Data is:\", x)\n",
    "pvar_w = stats.variance(x)\n",
    "print(\"Population variance is:\", pvar_w)"
   ]
  },
  {
   "cell_type": "code",
   "execution_count": null,
   "id": "e16e6da4",
   "metadata": {},
   "outputs": [],
   "source": []
  }
 ],
 "metadata": {
  "kernelspec": {
   "display_name": "Python 3 (ipykernel)",
   "language": "python",
   "name": "python3"
  },
  "language_info": {
   "codemirror_mode": {
    "name": "ipython",
    "version": 3
   },
   "file_extension": ".py",
   "mimetype": "text/x-python",
   "name": "python",
   "nbconvert_exporter": "python",
   "pygments_lexer": "ipython3",
   "version": "3.9.7"
  }
 },
 "nbformat": 4,
 "nbformat_minor": 5
}
