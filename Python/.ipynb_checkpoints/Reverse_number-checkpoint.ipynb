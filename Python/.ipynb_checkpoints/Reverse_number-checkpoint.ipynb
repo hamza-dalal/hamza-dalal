{
 "cells": [
  {
   "cell_type": "code",
   "execution_count": 1,
   "id": "1ce4271e",
   "metadata": {},
   "outputs": [],
   "source": [
    "#To find reverse of a number"
   ]
  },
  {
   "cell_type": "code",
   "execution_count": 2,
   "id": "f7bef272",
   "metadata": {},
   "outputs": [],
   "source": [
    "#If number is in text/string form"
   ]
  },
  {
   "cell_type": "code",
   "execution_count": 3,
   "id": "ca286d2b",
   "metadata": {},
   "outputs": [],
   "source": [
    "a = \"123456\""
   ]
  },
  {
   "cell_type": "code",
   "execution_count": 4,
   "id": "c6fdbc43",
   "metadata": {},
   "outputs": [
    {
     "data": {
      "text/plain": [
       "'654321'"
      ]
     },
     "execution_count": 4,
     "metadata": {},
     "output_type": "execute_result"
    }
   ],
   "source": [
    "a[::-1]"
   ]
  },
  {
   "cell_type": "code",
   "execution_count": 5,
   "id": "224d8868",
   "metadata": {},
   "outputs": [],
   "source": [
    "#If number is in numerical/integer form"
   ]
  },
  {
   "cell_type": "code",
   "execution_count": 6,
   "id": "61965d59",
   "metadata": {},
   "outputs": [],
   "source": [
    "b = 12345\n",
    "rev_no = 0"
   ]
  },
  {
   "cell_type": "code",
   "execution_count": 7,
   "id": "8ae97c0a",
   "metadata": {},
   "outputs": [],
   "source": [
    "while b>0:\n",
    "    rem = b%10\n",
    "    rev_no = (rev_no*10) + rem\n",
    "    b = b//10"
   ]
  },
  {
   "cell_type": "code",
   "execution_count": 8,
   "id": "cc945f53",
   "metadata": {},
   "outputs": [
    {
     "name": "stdout",
     "output_type": "stream",
     "text": [
      "54321\n"
     ]
    }
   ],
   "source": [
    "print(rev_no)"
   ]
  },
  {
   "cell_type": "code",
   "execution_count": null,
   "id": "d671171f",
   "metadata": {},
   "outputs": [],
   "source": []
  }
 ],
 "metadata": {
  "kernelspec": {
   "display_name": "Python 3 (ipykernel)",
   "language": "python",
   "name": "python3"
  },
  "language_info": {
   "codemirror_mode": {
    "name": "ipython",
    "version": 3
   },
   "file_extension": ".py",
   "mimetype": "text/x-python",
   "name": "python",
   "nbconvert_exporter": "python",
   "pygments_lexer": "ipython3",
   "version": "3.9.7"
  }
 },
 "nbformat": 4,
 "nbformat_minor": 5
}
