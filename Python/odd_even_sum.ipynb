{
 "cells": [
  {
   "cell_type": "code",
   "execution_count": 1,
   "id": "c14fb533",
   "metadata": {},
   "outputs": [],
   "source": [
    "#To find number of odd/even numbers in given range and to find it's sum"
   ]
  },
  {
   "cell_type": "code",
   "execution_count": 16,
   "id": "9de6a223",
   "metadata": {},
   "outputs": [
    {
     "name": "stdout",
     "output_type": "stream",
     "text": [
      "Enter lower limit of range:2\n",
      "lower limit is: 2\n"
     ]
    }
   ],
   "source": [
    "ll = int(input(\"Enter lower limit of range:\"))\n",
    "print(\"lower limit is:\", ll)"
   ]
  },
  {
   "cell_type": "code",
   "execution_count": 15,
   "id": "f6292952",
   "metadata": {},
   "outputs": [
    {
     "name": "stdout",
     "output_type": "stream",
     "text": [
      "Enter upper limit of range:20\n",
      "upper limit is: 20\n"
     ]
    }
   ],
   "source": [
    "ul = int(input(\"Enter upper limit of range:\"))\n",
    "print(\"upper limit is:\", ul)"
   ]
  },
  {
   "cell_type": "code",
   "execution_count": 58,
   "id": "9b653825",
   "metadata": {},
   "outputs": [],
   "source": [
    "odd = []\n",
    "even = []\n",
    "oddsum = 0\n",
    "evensum = 0\n",
    "for i in range(ll, ul+1):\n",
    "    if i%2 == 0:\n",
    "        even.append(i)\n",
    "        evensum = evensum + i\n",
    "    else:\n",
    "        odd.append(i)\n",
    "        oddsum = oddsum + i"
   ]
  },
  {
   "cell_type": "code",
   "execution_count": 59,
   "id": "fab4f3d6",
   "metadata": {},
   "outputs": [
    {
     "name": "stdout",
     "output_type": "stream",
     "text": [
      "Even numbers are: [2, 4, 6, 8, 10, 12, 14, 16, 18, 20]\n",
      "Odd numbers are: [3, 5, 7, 9, 11, 13, 15, 17, 19]\n",
      "Sum of even numbers is: 110\n",
      "Sum of odd numbers is: 99\n",
      "Total even numbers in the given range are: 10\n",
      "Total odd numbers in the given range are: 9\n"
     ]
    }
   ],
   "source": [
    "print(\"Even numbers are:\", even)\n",
    "print(\"Odd numbers are:\", odd)\n",
    "print(\"Sum of even numbers is:\", evensum)\n",
    "print(\"Sum of odd numbers is:\", oddsum)\n",
    "print(\"Total even numbers in the given range are:\", len(even))\n",
    "print(\"Total odd numbers in the given range are:\", len(odd))"
   ]
  },
  {
   "cell_type": "code",
   "execution_count": null,
   "id": "5f9a384c",
   "metadata": {},
   "outputs": [],
   "source": []
  }
 ],
 "metadata": {
  "kernelspec": {
   "display_name": "Python 3 (ipykernel)",
   "language": "python",
   "name": "python3"
  },
  "language_info": {
   "codemirror_mode": {
    "name": "ipython",
    "version": 3
   },
   "file_extension": ".py",
   "mimetype": "text/x-python",
   "name": "python",
   "nbconvert_exporter": "python",
   "pygments_lexer": "ipython3",
   "version": "3.9.7"
  }
 },
 "nbformat": 4,
 "nbformat_minor": 5
}
