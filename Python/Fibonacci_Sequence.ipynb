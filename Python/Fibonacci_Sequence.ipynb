{
 "cells": [
  {
   "cell_type": "code",
   "execution_count": 1,
   "id": "0aa8dc06",
   "metadata": {},
   "outputs": [
    {
     "name": "stdout",
     "output_type": "stream",
     "text": [
      "[0, 1, 1, 2, 3, 5, 8, 13, 21, 34, 55, 89, 144, 233, 377, 610, 987, 1597, 2584, 4181]\n"
     ]
    }
   ],
   "source": [
    "# Fibonacci numbers till nth number\n",
    "n = 20\n",
    "x = [0, 1]\n",
    "for i in range(2, n):\n",
    "    y = x[i-1] + x[i-2]\n",
    "    x.append(y)\n",
    "print(x)"
   ]
  },
  {
   "cell_type": "code",
   "execution_count": 2,
   "id": "db436358",
   "metadata": {},
   "outputs": [
    {
     "name": "stdout",
     "output_type": "stream",
     "text": [
      "[0, 1, 1, 2, 3, 5, 8, 13, 21, 34, 55, 89, 144, 233, 377, 610]\n"
     ]
    },
    {
     "data": {
      "text/plain": [
       "16"
      ]
     },
     "execution_count": 2,
     "metadata": {},
     "output_type": "execute_result"
    }
   ],
   "source": [
    "# To find number of Fibonacci numbers in the given range\n",
    "ll = 0\n",
    "ul = 700\n",
    "x1 = 0\n",
    "x2 = 1\n",
    "y = []\n",
    "while x1 <= ul:\n",
    "    if x1 >= ll:\n",
    "        y.append(x1)\n",
    "    x3 = x1 + x2\n",
    "    x1 = x2\n",
    "    x2 = x3\n",
    "\n",
    "# List of Fibonacci numbers in the given range\n",
    "print(y)\n",
    "\n",
    "# No. of Fibonacci numbers in the give range\n",
    "len(y)"
   ]
  },
  {
   "cell_type": "code",
   "execution_count": 8,
   "id": "274b0f59",
   "metadata": {},
   "outputs": [
    {
     "name": "stdout",
     "output_type": "stream",
     "text": [
      "Enter the number of iterations (must be > 1): 14\n",
      "Fibonacci series for 14 elements :\n",
      "1\n",
      "1\n",
      "2\n",
      "3\n",
      "5\n",
      "8\n",
      "13\n",
      "21\n",
      "34\n",
      "55\n",
      "89\n",
      "144\n",
      "233\n",
      "377\n"
     ]
    }
   ],
   "source": [
    "# Python program for Plotting Fibonacci\n",
    "# spiral fractal using Turtle\n",
    "import turtle\n",
    "import math\n",
    " \n",
    "def fiboPlot(n):\n",
    "    a = 0\n",
    "    b = 1\n",
    "    square_a = a\n",
    "    square_b = b\n",
    " \n",
    "    # Setting the colour of the plotting pen to blue\n",
    "    x.pencolor(\"blue\")\n",
    " \n",
    "    # Drawing the first square\n",
    "    x.forward(b * factor)\n",
    "    x.left(90)\n",
    "    x.forward(b * factor)\n",
    "    x.left(90)\n",
    "    x.forward(b * factor)\n",
    "    x.left(90)\n",
    "    x.forward(b * factor)\n",
    " \n",
    "    # Proceeding in the Fibonacci Series\n",
    "    temp = square_b\n",
    "    square_b = square_b + square_a\n",
    "    square_a = temp\n",
    "     \n",
    "    # Drawing the rest of the squares\n",
    "    for i in range(1, n):\n",
    "        x.backward(square_a * factor)\n",
    "        x.right(90)\n",
    "        x.forward(square_b * factor)\n",
    "        x.left(90)\n",
    "        x.forward(square_b * factor)\n",
    "        x.left(90)\n",
    "        x.forward(square_b * factor)\n",
    " \n",
    "        # Proceeding in the Fibonacci Series\n",
    "        temp = square_b\n",
    "        square_b = square_b + square_a\n",
    "        square_a = temp\n",
    " \n",
    "    # Bringing the pen to starting point of the spiral plot\n",
    "    x.penup()\n",
    "    x.setposition(factor, 0)\n",
    "    x.seth(0)\n",
    "    x.pendown()\n",
    " \n",
    "    # Setting the colour of the plotting pen to red\n",
    "    x.pencolor(\"red\")\n",
    " \n",
    "    # Fibonacci Spiral Plot\n",
    "    x.left(90)\n",
    "    for i in range(n):\n",
    "        print(b)\n",
    "        fdwd = math.pi * b * factor / 2\n",
    "        fdwd /= 90\n",
    "        for j in range(90):\n",
    "            x.forward(fdwd)\n",
    "            x.left(1)\n",
    "        temp = a\n",
    "        a = b\n",
    "        b = temp + b\n",
    " \n",
    " \n",
    "# Here 'factor' signifies the multiplicative\n",
    "# factor which expands or shrinks the scale\n",
    "# of the plot by a certain factor.\n",
    "factor = 1\n",
    " \n",
    "# Taking Input for the number of\n",
    "# Iterations our Algorithm will run\n",
    "n = int(input('Enter the number of iterations (must be > 1): '))\n",
    " \n",
    "# Plotting the Fibonacci Spiral Fractal\n",
    "# and printing the corresponding Fibonacci Number\n",
    "if n > 0:\n",
    "    print(\"Fibonacci series for\", n, \"elements :\")\n",
    "    x = turtle.Turtle()\n",
    "    x.speed(100)\n",
    "    fiboPlot(n)\n",
    "    turtle.done()\n",
    "else:\n",
    "    print(\"Number of iterations must be > 0\")"
   ]
  },
  {
   "cell_type": "code",
   "execution_count": null,
   "id": "bd8f7a4b",
   "metadata": {},
   "outputs": [],
   "source": []
  }
 ],
 "metadata": {
  "kernelspec": {
   "display_name": "Python 3 (ipykernel)",
   "language": "python",
   "name": "python3"
  },
  "language_info": {
   "codemirror_mode": {
    "name": "ipython",
    "version": 3
   },
   "file_extension": ".py",
   "mimetype": "text/x-python",
   "name": "python",
   "nbconvert_exporter": "python",
   "pygments_lexer": "ipython3",
   "version": "3.9.7"
  }
 },
 "nbformat": 4,
 "nbformat_minor": 5
}
